{
 "cells": [
  {
   "cell_type": "markdown",
   "id": "cbfae9fe-301c-4369-b311-c023bbb7832d",
   "metadata": {
    "tags": []
   },
   "source": [
    "<h1><span style='color:Blue'><u>Déploiement d'un modèle dans le cloud</u><br></span></h1>\n",
    "\n",
    "\n",
    "# I. Contexte\n",
    "\n",
    "Le but de ce projet est de créer un classifieur d'images de fruits et légumes dans un environnement Big Data sur AWS et avec PySpark pour distribuer les calculs. Afin de limiter les frais, seuls 2 serveurs EC2 sont utilisés et le nombre d'images est limité.\n"
   ]
  },
  {
   "cell_type": "markdown",
   "id": "31747feb-f93c-415a-b384-ab3032beee67",
   "metadata": {},
   "source": [
    "# II. Initialisation du programme et de la SparkSession"
   ]
  },
  {
   "cell_type": "code",
   "execution_count": 76,
   "id": "3edc9616",
   "metadata": {
    "execution": {
     "iopub.execute_input": "2022-09-14T18:12:34.932699Z",
     "iopub.status.busy": "2022-09-14T18:12:34.932383Z",
     "iopub.status.idle": "2022-09-14T18:12:35.036804Z",
     "shell.execute_reply": "2022-09-14T18:12:35.033703Z",
     "shell.execute_reply.started": "2022-09-14T18:12:34.932659Z"
    },
    "tags": []
   },
   "outputs": [
    {
     "data": {
      "application/vnd.jupyter.widget-view+json": {
       "model_id": "86dbd8b2bbc44d1e9102708c40d855d4",
       "version_major": 2,
       "version_minor": 0
      },
      "text/plain": [
       "VBox()"
      ]
     },
     "metadata": {},
     "output_type": "display_data"
    },
    {
     "data": {
      "application/vnd.jupyter.widget-view+json": {
       "model_id": "",
       "version_major": 2,
       "version_minor": 0
      },
      "text/plain": [
       "FloatProgress(value=0.0, bar_style='info', description='Progress:', layout=Layout(height='25px', width='50%'),…"
      ]
     },
     "metadata": {},
     "output_type": "display_data"
    }
   ],
   "source": [
    "# %%configure -f\n",
    "# {\n",
    "#     \"driverCores\" : 1, \n",
    "#     \"executorCores\": 2,   \n",
    "#     \"driverMemory\": '2G',\n",
    "#     \"executorMemory\": '4G'\n",
    "# }\n",
    "\n",
    "#     \"conf\" : { \"spark.sql.files.ignoreMissingFiles\": \"true\",\n",
    "#                \"spark.jars.packages\": \"graphframes:graphframes:0.7.0-spark2.4-s_2.11\"}\n",
    "# for long calculation (>1h): \"livy.server.session.timeout\":\"8h\"\n"
   ]
  },
  {
   "cell_type": "code",
   "execution_count": 77,
   "id": "5b821bc2",
   "metadata": {
    "execution": {
     "iopub.execute_input": "2022-09-14T18:12:35.040271Z",
     "iopub.status.busy": "2022-09-14T18:12:35.038682Z",
     "iopub.status.idle": "2022-09-14T18:12:35.158509Z",
     "shell.execute_reply": "2022-09-14T18:12:35.157563Z",
     "shell.execute_reply.started": "2022-09-14T18:12:35.040218Z"
    },
    "tags": []
   },
   "outputs": [
    {
     "data": {
      "application/vnd.jupyter.widget-view+json": {
       "model_id": "ff859daeb2914a3b8631034267fe739c",
       "version_major": 2,
       "version_minor": 0
      },
      "text/plain": [
       "VBox()"
      ]
     },
     "metadata": {},
     "output_type": "display_data"
    },
    {
     "data": {
      "application/vnd.jupyter.widget-view+json": {
       "model_id": "",
       "version_major": 2,
       "version_minor": 0
      },
      "text/plain": [
       "FloatProgress(value=0.0, bar_style='info', description='Progress:', layout=Layout(height='25px', width='50%'),…"
      ]
     },
     "metadata": {},
     "output_type": "display_data"
    }
   ],
   "source": [
    "\n",
    "# # use below if \"no active session\" message (restart kernel first) \n",
    "# # change n'apparait pas dans %%infos mais changé dans spark.conf.get(\"...\")\n",
    "\n",
    "# from pyspark.sql import SparkSession\n",
    "# spark = (SparkSession \n",
    "#     .builder \n",
    "#     .appName(\"fruits_app\")\n",
    "#     .config(\"spark.submit.deployMode\", \"cluster\") \n",
    "#     .config(\"spark.driver.memory\", \"2G\")\n",
    "#     .config(\"spark.driver.cores\", 1) \n",
    "#     .config(\"executorCores\", 3)\n",
    "#     .getOrCreate()\n",
    "# )\n",
    "# #     .config(\"spark.hadoop.fs.s3a.endpoint\", \"s3.eu-west-3.amazonaws.com\") \n",
    "     "
   ]
  },
  {
   "cell_type": "code",
   "execution_count": 78,
   "id": "c76f4dea-3e69-4f58-bdac-11e57107054b",
   "metadata": {
    "execution": {
     "iopub.execute_input": "2022-09-14T18:12:35.161264Z",
     "iopub.status.busy": "2022-09-14T18:12:35.160734Z",
     "iopub.status.idle": "2022-09-14T18:12:35.489811Z",
     "shell.execute_reply": "2022-09-14T18:12:35.488214Z",
     "shell.execute_reply.started": "2022-09-14T18:12:35.161214Z"
    },
    "tags": []
   },
   "outputs": [
    {
     "data": {
      "application/vnd.jupyter.widget-view+json": {
       "model_id": "ab41837a22384b44899bbc7d3fb3a51e",
       "version_major": 2,
       "version_minor": 0
      },
      "text/plain": [
       "VBox()"
      ]
     },
     "metadata": {},
     "output_type": "display_data"
    },
    {
     "data": {
      "application/vnd.jupyter.widget-view+json": {
       "model_id": "",
       "version_major": 2,
       "version_minor": 0
      },
      "text/plain": [
       "FloatProgress(value=0.0, bar_style='info', description='Progress:', layout=Layout(height='25px', width='50%'),…"
      ]
     },
     "metadata": {},
     "output_type": "display_data"
    }
   ],
   "source": [
    "#-----------------------------------------------------------------------------\n",
    "\n",
    "import os\n",
    "import io\n",
    "import sys\n",
    "import time\n",
    "\n",
    "import pandas as pd\n",
    "import numpy as np\n",
    "import matplotlib.pyplot as plt\n",
    "from PIL import Image\n",
    "import boto3\n",
    "\n",
    "import tensorflow as tf\n",
    "from tensorflow.keras.models import Model\n",
    "# from tensorflow.keras.applications import Xception\n",
    "# from tensorflow.keras.applications.xception import preprocess_input\n",
    "# from tensorflow.keras.applications.vgg16 import VGG16 # OOM\n",
    "# from tensorflow.keras.applications.vgg16 import preprocess_input \n",
    "from tensorflow.keras.applications.mobilenet_v2 import MobileNetV2\n",
    "from tensorflow.keras.applications.mobilenet_v2 import preprocess_input\n",
    "from tensorflow.keras.preprocessing.image import load_img\n",
    "from tensorflow.keras.preprocessing.image import img_to_array, array_to_img\n",
    "\n",
    "#!pip install pyspark  # in Kaggle\n",
    "import pyspark\n",
    "from pyspark.sql import SparkSession\n",
    "from pyspark.sql.functions import col, pandas_udf, PandasUDFType, udf\n",
    "import pyspark.sql.functions as F\n",
    "from pyspark.sql.types import *\n",
    "from pyspark.ml.feature import PCA, StandardScaler, VectorAssembler\n",
    "from pyspark.ml.linalg import VectorUDT, Vectors\n",
    "from pyspark.ml.functions import vector_to_array\n",
    "\n",
    "import pyarrow\n"
   ]
  },
  {
   "cell_type": "code",
   "execution_count": 79,
   "id": "8576e49e-c542-49c2-be25-41c35a33b5a1",
   "metadata": {
    "execution": {
     "iopub.execute_input": "2022-09-14T18:12:35.491945Z",
     "iopub.status.busy": "2022-09-14T18:12:35.491625Z",
     "iopub.status.idle": "2022-09-14T18:12:35.652430Z",
     "shell.execute_reply": "2022-09-14T18:12:35.647248Z",
     "shell.execute_reply.started": "2022-09-14T18:12:35.491897Z"
    },
    "tags": []
   },
   "outputs": [
    {
     "data": {
      "application/vnd.jupyter.widget-view+json": {
       "model_id": "03a4c675475043c09978743b899c0fb9",
       "version_major": 2,
       "version_minor": 0
      },
      "text/plain": [
       "VBox()"
      ]
     },
     "metadata": {},
     "output_type": "display_data"
    },
    {
     "data": {
      "application/vnd.jupyter.widget-view+json": {
       "model_id": "",
       "version_major": 2,
       "version_minor": 0
      },
      "text/plain": [
       "FloatProgress(value=0.0, bar_style='info', description='Progress:', layout=Layout(height='25px', width='50%'),…"
      ]
     },
     "metadata": {},
     "output_type": "display_data"
    }
   ],
   "source": [
    "\"\"\"\n",
    "This cell is used only in \"local\" mode (i.e. on Kaggle, not on AWS)\n",
    "\"\"\"\n",
    "\n",
    "# from kaggle_secrets import UserSecretsClient\n",
    "# user_secrets = UserSecretsClient()\n",
    "\n",
    "\n",
    "# os.environ['PYSPARK_SUBMIT_ARGS'] = \\\n",
    "#     '--packages com.amazonaws:aws-java-sdk-bundle:1.11.1026,'\\\n",
    "#     'org.apache.hadoop:hadoop-aws:3.3.2 pyspark-shell'\n",
    "\n",
    "\n",
    "# # if update spark definition below, needs to restart kernel \n",
    "# spark = (SparkSession \n",
    "#     .builder \n",
    "#     .appName(\"fruits_app\") \n",
    "# #     .config(\"spark.hadoop.fs.s3a.endpoint\", \"s3.eu-west-3.amazonaws.com\")  \n",
    "# #     .config(\"spark.hadoop.fs.s3a.aws.credentials.provider\", \n",
    "# # #             \"com.amazonaws.auth.DefaultAWSCredentialsProviderChain\",\n",
    "# #             \"com.amazonaws.auth.EnvironmentVariableCredentialsProvider\")\n",
    "#     .config(\"spark.hadoop.fs.s3a.aws.credentials.provider\", \n",
    "#             \"org.apache.hadoop.fs.s3a.SimpleAWSCredentialsProvider\") \n",
    "#     .config('spark.hadoop.fs.s3a.access.key', \n",
    "#              user_secrets.get_secret(\"acces_key_id\")) \n",
    "#     .config('spark.hadoop.fs.s3a.secret.key', \n",
    "#              user_secrets.get_secret(\"access_key_secret\")) \n",
    "# #     .config('spark.hadoop.fs.s3a.impl', \n",
    "# #            'org.apache.hadoop.fs.s3a.S3AFileSystem')\n",
    "#     .master('local[4]')\n",
    "#     .getOrCreate()\n",
    "# )\n",
    "\n",
    "\"\"\" to try boto3 but not needed here\n",
    "session = boto3.Session(\n",
    "    aws_access_key_id=user_secrets.get_secret(\"acces_key_id\"),\n",
    "    aws_secret_access_key=user_secrets.get_secret(\"access_key_secret\"),\n",
    ")\n",
    "\n",
    "s3 = session.resource('s3')\n",
    "# conn = s3.connect_to_region(\"eu-west-3\")\n",
    "bucket = s3.Bucket(\"oc8-fruits-rq\")\n",
    "\n",
    "# s3 = boto3.resource('s3')\n",
    "# my_bucket = s3.Bucket('some/path/')\n",
    "\n",
    "# # Print out bucket names\n",
    "# for bucket in s3.buckets.all():\n",
    "#     print(bucket.name)\n",
    "# for my_bucket_object in bucket.objects.all(): #.limit(10)\n",
    "#     print(my_bucket_object)\n",
    "\n",
    "# key = boto.s3.key.Key(bucket, \"words.txt\")\n",
    "# key.set_contents_from_string(json.dumps(word_counts, indent=2))\n",
    "\"\"\"\n",
    "print('')"
   ]
  },
  {
   "cell_type": "code",
   "execution_count": 80,
   "id": "6bfefa52-67ca-4bf9-b1f9-5a48e7fe3a44",
   "metadata": {
    "execution": {
     "iopub.execute_input": "2022-09-14T18:12:35.654625Z",
     "iopub.status.busy": "2022-09-14T18:12:35.653989Z",
     "iopub.status.idle": "2022-09-14T18:12:35.986294Z",
     "shell.execute_reply": "2022-09-14T18:12:35.985164Z",
     "shell.execute_reply.started": "2022-09-14T18:12:35.654573Z"
    },
    "tags": []
   },
   "outputs": [
    {
     "data": {
      "application/vnd.jupyter.widget-view+json": {
       "model_id": "b93b4e47694742f5944fa9521305bf08",
       "version_major": 2,
       "version_minor": 0
      },
      "text/plain": [
       "VBox()"
      ]
     },
     "metadata": {},
     "output_type": "display_data"
    },
    {
     "data": {
      "application/vnd.jupyter.widget-view+json": {
       "model_id": "",
       "version_major": 2,
       "version_minor": 0
      },
      "text/plain": [
       "FloatProgress(value=0.0, bar_style='info', description='Progress:', layout=Layout(height='25px', width='50%'),…"
      ]
     },
     "metadata": {},
     "output_type": "display_data"
    },
    {
     "name": "stdout",
     "output_type": "stream",
     "text": [
      "3.7.10 (default, Jun  3 2021, 00:02:01) \n",
      "[GCC 7.3.1 20180712 (Red Hat 7.3.1-13)]\n",
      "/tmp/1663173848244-0/bin/python\n",
      "\n",
      "client\n",
      "client\n",
      "yarn\n",
      "yarn \n",
      "\n",
      "1.16.5\n",
      "<module 'numpy' from '/usr/local/lib64/python3.7/site-packages/numpy/__init__.py'> \n",
      " <module 'tensorflow' from '/usr/local/lib64/python3.7/site-packages/tensorflow/__init__.py'> \n",
      "\n",
      "/usr/lib/spark\n",
      "/etc/alternatives/jre\n",
      "/usr/local/sbin:/usr/local/bin:/usr/sbin:/usr/bin"
     ]
    }
   ],
   "source": [
    "\n",
    "print(sys.version)   # python version\n",
    "print(sys.executable)  # python directory\n",
    "\n",
    "print('\\n' + sc.getConf().get(\"spark.submit.deployMode\"))\n",
    "print(spark.conf.get(\"spark.submit.deployMode\"))\n",
    "\n",
    "print(spark.conf.get('spark.master'))\n",
    "print(sc.getConf().get(\"spark.master\"), '\\n')\n",
    "\n",
    "print(np.__version__)\n",
    "print(np, '\\n', tf, '\\n')\n",
    "\n",
    "print(os.environ['SPARK_HOME'])\n",
    "print(os.environ['JAVA_HOME'])\n",
    "print(os.environ['PATH'])\n"
   ]
  },
  {
   "cell_type": "code",
   "execution_count": 81,
   "id": "0e14fa8c",
   "metadata": {
    "execution": {
     "iopub.execute_input": "2022-09-14T18:12:35.988450Z",
     "iopub.status.busy": "2022-09-14T18:12:35.987920Z",
     "iopub.status.idle": "2022-09-14T18:12:36.096923Z",
     "shell.execute_reply": "2022-09-14T18:12:36.095478Z",
     "shell.execute_reply.started": "2022-09-14T18:12:35.988398Z"
    }
   },
   "outputs": [
    {
     "data": {
      "application/vnd.jupyter.widget-view+json": {
       "model_id": "201dc610d3014f1f936feaf5aa873a87",
       "version_major": 2,
       "version_minor": 0
      },
      "text/plain": [
       "VBox()"
      ]
     },
     "metadata": {},
     "output_type": "display_data"
    },
    {
     "data": {
      "application/vnd.jupyter.widget-view+json": {
       "model_id": "",
       "version_major": 2,
       "version_minor": 0
      },
      "text/plain": [
       "FloatProgress(value=0.0, bar_style='info', description='Progress:', layout=Layout(height='25px', width='50%'),…"
      ]
     },
     "metadata": {},
     "output_type": "display_data"
    }
   ],
   "source": [
    "# %%info"
   ]
  },
  {
   "cell_type": "code",
   "execution_count": 82,
   "id": "11205cf3",
   "metadata": {
    "execution": {
     "iopub.execute_input": "2022-09-14T18:12:36.102412Z",
     "iopub.status.busy": "2022-09-14T18:12:36.100680Z",
     "iopub.status.idle": "2022-09-14T18:12:36.219486Z",
     "shell.execute_reply": "2022-09-14T18:12:36.218115Z",
     "shell.execute_reply.started": "2022-09-14T18:12:36.102358Z"
    }
   },
   "outputs": [
    {
     "data": {
      "application/vnd.jupyter.widget-view+json": {
       "model_id": "10ae0411907643c795540c83f9fce332",
       "version_major": 2,
       "version_minor": 0
      },
      "text/plain": [
       "VBox()"
      ]
     },
     "metadata": {},
     "output_type": "display_data"
    },
    {
     "data": {
      "application/vnd.jupyter.widget-view+json": {
       "model_id": "",
       "version_major": 2,
       "version_minor": 0
      },
      "text/plain": [
       "FloatProgress(value=0.0, bar_style='info', description='Progress:', layout=Layout(height='25px', width='50%'),…"
      ]
     },
     "metadata": {},
     "output_type": "display_data"
    }
   ],
   "source": [
    "# %%local\n",
    "# conda list"
   ]
  },
  {
   "cell_type": "code",
   "execution_count": 83,
   "id": "242afad1",
   "metadata": {
    "execution": {
     "iopub.execute_input": "2022-09-14T18:12:36.221700Z",
     "iopub.status.busy": "2022-09-14T18:12:36.221397Z",
     "iopub.status.idle": "2022-09-14T18:12:36.331461Z",
     "shell.execute_reply": "2022-09-14T18:12:36.330542Z",
     "shell.execute_reply.started": "2022-09-14T18:12:36.221653Z"
    }
   },
   "outputs": [
    {
     "data": {
      "application/vnd.jupyter.widget-view+json": {
       "model_id": "9ef017f36513480bb2900ac4ed31b3bf",
       "version_major": 2,
       "version_minor": 0
      },
      "text/plain": [
       "VBox()"
      ]
     },
     "metadata": {},
     "output_type": "display_data"
    },
    {
     "data": {
      "application/vnd.jupyter.widget-view+json": {
       "model_id": "",
       "version_major": 2,
       "version_minor": 0
      },
      "text/plain": [
       "FloatProgress(value=0.0, bar_style='info', description='Progress:', layout=Layout(height='25px', width='50%'),…"
      ]
     },
     "metadata": {},
     "output_type": "display_data"
    }
   ],
   "source": [
    "# sc.list_packages() \n",
    "\n",
    "# sc.uninstall_package(\"matplotlib\")\n",
    "# sc.install_pypi_package(\"matplotlib==3.3.0\")\n",
    "# import matplotlib.pyplot as plt"
   ]
  },
  {
   "cell_type": "code",
   "execution_count": 84,
   "id": "54f29b01",
   "metadata": {
    "execution": {
     "iopub.execute_input": "2022-09-14T18:12:36.334140Z",
     "iopub.status.busy": "2022-09-14T18:12:36.333792Z",
     "iopub.status.idle": "2022-09-14T18:12:36.465552Z",
     "shell.execute_reply": "2022-09-14T18:12:36.464506Z",
     "shell.execute_reply.started": "2022-09-14T18:12:36.334091Z"
    },
    "tags": []
   },
   "outputs": [
    {
     "data": {
      "application/vnd.jupyter.widget-view+json": {
       "model_id": "c6bb81cb89c845eab4f06de4b1d49ab4",
       "version_major": 2,
       "version_minor": 0
      },
      "text/plain": [
       "VBox()"
      ]
     },
     "metadata": {},
     "output_type": "display_data"
    },
    {
     "data": {
      "application/vnd.jupyter.widget-view+json": {
       "model_id": "",
       "version_major": 2,
       "version_minor": 0
      },
      "text/plain": [
       "FloatProgress(value=0.0, bar_style='info', description='Progress:', layout=Layout(height='25px', width='50%'),…"
      ]
     },
     "metadata": {},
     "output_type": "display_data"
    },
    {
     "name": "stdout",
     "output_type": "stream",
     "text": [
      "client"
     ]
    }
   ],
   "source": [
    "\n",
    "spark = (SparkSession \n",
    "    .builder \n",
    "    .appName(\"fruits_app\") \n",
    "#     .config(\"spark.submit.deployMode\", \"cluster\") \n",
    "    .getOrCreate()\n",
    ")\n",
    "\n",
    "print(spark.conf.get(\"spark.submit.deployMode\"))"
   ]
  },
  {
   "cell_type": "code",
   "execution_count": 85,
   "id": "e70e968d",
   "metadata": {
    "execution": {
     "iopub.execute_input": "2022-09-14T18:12:36.467257Z",
     "iopub.status.busy": "2022-09-14T18:12:36.466958Z",
     "iopub.status.idle": "2022-09-14T18:12:36.602608Z",
     "shell.execute_reply": "2022-09-14T18:12:36.601523Z",
     "shell.execute_reply.started": "2022-09-14T18:12:36.467212Z"
    },
    "tags": []
   },
   "outputs": [
    {
     "data": {
      "application/vnd.jupyter.widget-view+json": {
       "model_id": "7b72c51e8d444fc4819be339d059473e",
       "version_major": 2,
       "version_minor": 0
      },
      "text/plain": [
       "VBox()"
      ]
     },
     "metadata": {},
     "output_type": "display_data"
    },
    {
     "data": {
      "application/vnd.jupyter.widget-view+json": {
       "model_id": "",
       "version_major": 2,
       "version_minor": 0
      },
      "text/plain": [
       "FloatProgress(value=0.0, bar_style='info', description='Progress:', layout=Layout(height='25px', width='50%'),…"
      ]
     },
     "metadata": {},
     "output_type": "display_data"
    },
    {
     "name": "stdout",
     "output_type": "stream",
     "text": [
      "pyspark version = 3.1.2+amzn.1\n",
      "Spark version = 3.1.2-amzn-1\n",
      "Hadoop version = 3.2.1-amzn-5 \n",
      "\n",
      "org.apache.hadoop.fs.s3a.S3AFileSystem"
     ]
    }
   ],
   "source": [
    "\n",
    "print('pyspark version =', pyspark.__version__)\n",
    "\n",
    "# spark 3.3.0 on Kaggle (3.1.2 on EMR)\n",
    "print(f\"Spark version = {spark.version}\")\n",
    "\n",
    "# hadoop 3.3.2 on Kagle (3.2.1 on EMR)\n",
    "print(f\"Hadoop version = \n",
    "    {spark._jvm.org.apache.hadoop.util.VersionInfo.getVersion()}\", '\\n')\n",
    "\n",
    "# java openjdk 11.0.16\n",
    "print(spark._jsc.hadoopConfiguration().get(\"fs.s3a.impl\"))\n"
   ]
  },
  {
   "cell_type": "code",
   "execution_count": 86,
   "id": "e84216c0",
   "metadata": {
    "execution": {
     "iopub.execute_input": "2022-09-14T18:12:36.604924Z",
     "iopub.status.busy": "2022-09-14T18:12:36.604540Z",
     "iopub.status.idle": "2022-09-14T18:12:36.711737Z",
     "shell.execute_reply": "2022-09-14T18:12:36.710782Z",
     "shell.execute_reply.started": "2022-09-14T18:12:36.604874Z"
    },
    "tags": []
   },
   "outputs": [
    {
     "data": {
      "application/vnd.jupyter.widget-view+json": {
       "model_id": "205a635b486445eeaac81abb2eba88a4",
       "version_major": 2,
       "version_minor": 0
      },
      "text/plain": [
       "VBox()"
      ]
     },
     "metadata": {},
     "output_type": "display_data"
    },
    {
     "data": {
      "application/vnd.jupyter.widget-view+json": {
       "model_id": "",
       "version_major": 2,
       "version_minor": 0
      },
      "text/plain": [
       "FloatProgress(value=0.0, bar_style='info', description='Progress:', layout=Layout(height='25px', width='50%'),…"
      ]
     },
     "metadata": {},
     "output_type": "display_data"
    }
   ],
   "source": [
    "# %%logs"
   ]
  },
  {
   "cell_type": "markdown",
   "id": "fbf88cdf-c44f-4ee9-8ff6-76be821f1dcd",
   "metadata": {},
   "source": [
    "# III. Chargement des images stockées sur S3"
   ]
  },
  {
   "cell_type": "code",
   "execution_count": 87,
   "id": "00b529e1",
   "metadata": {
    "execution": {
     "iopub.execute_input": "2022-09-14T18:12:36.713117Z",
     "iopub.status.busy": "2022-09-14T18:12:36.712890Z",
     "iopub.status.idle": "2022-09-14T18:12:56.151700Z",
     "shell.execute_reply": "2022-09-14T18:12:56.150669Z",
     "shell.execute_reply.started": "2022-09-14T18:12:36.713087Z"
    },
    "tags": []
   },
   "outputs": [
    {
     "data": {
      "application/vnd.jupyter.widget-view+json": {
       "model_id": "b2fb32bb7dfa4de697cd1be667361080",
       "version_major": 2,
       "version_minor": 0
      },
      "text/plain": [
       "VBox()"
      ]
     },
     "metadata": {},
     "output_type": "display_data"
    },
    {
     "data": {
      "application/vnd.jupyter.widget-view+json": {
       "model_id": "",
       "version_major": 2,
       "version_minor": 0
      },
      "text/plain": [
       "FloatProgress(value=0.0, bar_style='info', description='Progress:', layout=Layout(height='25px', width='50%'),…"
      ]
     },
     "metadata": {},
     "output_type": "display_data"
    },
    {
     "name": "stdout",
     "output_type": "stream",
     "text": [
      "+--------------------------------------------------+-------------------+------+--------------------------------------------------+\n",
      "|                                              path|   modificationTime|length|                                           content|\n",
      "+--------------------------------------------------+-------------------+------+--------------------------------------------------+\n",
      "|s3a://oc8-fruits-rq/Fruits_5x10/Cauliflower/2_1...|2022-09-13 13:13:02|  6233|[FF D8 FF E0 00 10 4A 46 49 46 00 01 01 00 00 0...|\n",
      "|s3a://oc8-fruits-rq/Fruits_5x10/Cauliflower/61_...|2022-09-13 13:13:04|  6232|[FF D8 FF E0 00 10 4A 46 49 46 00 01 01 00 00 0...|\n",
      "|s3a://oc8-fruits-rq/Fruits_5x10/Cauliflower/3_1...|2022-09-13 13:13:02|  6231|[FF D8 FF E0 00 10 4A 46 49 46 00 01 01 00 00 0...|\n",
      "|s3a://oc8-fruits-rq/Fruits_5x10/Cauliflower/64_...|2022-09-13 13:13:05|  6228|[FF D8 FF E0 00 10 4A 46 49 46 00 01 01 00 00 0...|\n",
      "|s3a://oc8-fruits-rq/Fruits_5x10/Cauliflower/5_1...|2022-09-13 13:13:04|  6224|[FF D8 FF E0 00 10 4A 46 49 46 00 01 01 00 00 0...|\n",
      "|s3a://oc8-fruits-rq/Fruits_5x10/Cauliflower/1_1...|2022-09-13 13:13:01|  6213|[FF D8 FF E0 00 10 4A 46 49 46 00 01 01 00 00 0...|\n",
      "|s3a://oc8-fruits-rq/Fruits_5x10/Cauliflower/6_1...|2022-09-13 13:13:05|  6206|[FF D8 FF E0 00 10 4A 46 49 46 00 01 01 00 00 0...|\n",
      "|s3a://oc8-fruits-rq/Fruits_5x10/Cauliflower/0_1...|2022-09-13 13:13:01|  6186|[FF D8 FF E0 00 10 4A 46 49 46 00 01 01 00 00 0...|\n",
      "|s3a://oc8-fruits-rq/Fruits_5x10/Cauliflower/4_1...|2022-09-13 13:13:03|  6186|[FF D8 FF E0 00 10 4A 46 49 46 00 01 01 00 00 0...|\n",
      "|s3a://oc8-fruits-rq/Fruits_5x10/Cauliflower/58_...|2022-09-13 13:13:04|  6147|[FF D8 FF E0 00 10 4A 46 49 46 00 01 01 00 00 0...|\n",
      "|s3a://oc8-fruits-rq/Fruits_5x10/Apricot/11_100.jpg|2022-09-13 13:13:07|  4483|[FF D8 FF E0 00 10 4A 46 49 46 00 01 01 00 00 0...|\n",
      "|s3a://oc8-fruits-rq/Fruits_5x10/Apricot/10_100.jpg|2022-09-13 13:13:06|  4476|[FF D8 FF E0 00 10 4A 46 49 46 00 01 01 00 00 0...|\n",
      "|s3a://oc8-fruits-rq/Fruits_5x10/Apricot/12_100.jpg|2022-09-13 13:13:07|  4461|[FF D8 FF E0 00 10 4A 46 49 46 00 01 01 00 00 0...|\n",
      "| s3a://oc8-fruits-rq/Fruits_5x10/Apricot/0_100.jpg|2022-09-13 13:13:06|  4453|[FF D8 FF E0 00 10 4A 46 49 46 00 01 01 00 00 0...|\n",
      "| s3a://oc8-fruits-rq/Fruits_5x10/Apricot/2_100.jpg|2022-09-13 13:13:10|  4438|[FF D8 FF E0 00 10 4A 46 49 46 00 01 01 00 00 0...|\n",
      "|s3a://oc8-fruits-rq/Fruits_5x10/Apricot/15_100.jpg|2022-09-13 13:13:09|  4414|[FF D8 FF E0 00 10 4A 46 49 46 00 01 01 00 00 0...|\n",
      "| s3a://oc8-fruits-rq/Fruits_5x10/Apricot/1_100.jpg|2022-09-13 13:13:10|  4408|[FF D8 FF E0 00 10 4A 46 49 46 00 01 01 00 00 0...|\n",
      "|s3a://oc8-fruits-rq/Fruits_5x10/Apricot/13_100.jpg|2022-09-13 13:13:08|  4393|[FF D8 FF E0 00 10 4A 46 49 46 00 01 01 00 00 0...|\n",
      "|s3a://oc8-fruits-rq/Fruits_5x10/Apricot/16_100.jpg|2022-09-13 13:13:09|  4358|[FF D8 FF E0 00 10 4A 46 49 46 00 01 01 00 00 0...|\n",
      "|s3a://oc8-fruits-rq/Fruits_5x10/Apricot/14_100.jpg|2022-09-13 13:13:08|  4353|[FF D8 FF E0 00 10 4A 46 49 46 00 01 01 00 00 0...|\n",
      "+--------------------------------------------------+-------------------+------+--------------------------------------------------+\n",
      "only showing top 20 rows\n",
      "\n",
      "shape: (50, 4)\n",
      "+--------------------+-------------------+------+--------------------+\n",
      "|                path|   modificationTime|length|             content|\n",
      "+--------------------+-------------------+------+--------------------+\n",
      "|s3a://oc8-fruits-...|2022-09-13 13:13:02|  6233|[FF D8 FF E0 00 1...|\n",
      "|s3a://oc8-fruits-...|2022-09-13 13:13:04|  6232|[FF D8 FF E0 00 1...|\n",
      "+--------------------+-------------------+------+--------------------+\n",
      "only showing top 2 rows\n",
      "\n",
      "None\n",
      "root\n",
      " |-- path: string (nullable = true)\n",
      " |-- modificationTime: timestamp (nullable = true)\n",
      " |-- length: long (nullable = true)\n",
      " |-- content: binary (nullable = true)\n",
      "\n",
      "None"
     ]
    }
   ],
   "source": [
    "# Load the images from S3\n",
    "\n",
    "images = (spark.read \n",
    "               .format(\"binaryFile\") \n",
    "               .option(\"pathGlobFilter\", \"*.jpg\") \n",
    "               .option(\"recursiveFileLookup\", \"true\") \n",
    "               .load(\"s3a://oc8-fruits-rq/Fruits_5x10\")\n",
    ")\n",
    "images.show(truncate=50)\n",
    "# print(images.toPandas().head())\n",
    "# images.select('path').limit(3).show(truncate=100) \n",
    "print('shape:', (images.count(), len(images.columns)))\n",
    "print(images.show(2))\n",
    "print(images.printSchema())\n",
    "\n",
    "\"\"\"\n",
    "root\n",
    " |-- path: string (nullable = true)\n",
    " |-- modificationTime: timestamp (nullable = true)\n",
    " |-- length: long (nullable = true)\n",
    " |-- content: binary (nullable = true)root\n",
    " |-- path: string (nullable = true)\n",
    " |-- modificationTime: timestamp (nullable = true)\n",
    " |-- length: long (nullable = true)\n",
    " |-- content: binary (nullable = true)\n",
    " \"\"\"\n",
    "print('')"
   ]
  },
  {
   "cell_type": "code",
   "execution_count": 88,
   "id": "97d766f5-4c9c-4021-86ca-a84e973da194",
   "metadata": {
    "execution": {
     "iopub.execute_input": "2022-09-14T18:12:56.153121Z",
     "iopub.status.busy": "2022-09-14T18:12:56.152887Z",
     "iopub.status.idle": "2022-09-14T18:12:59.531886Z",
     "shell.execute_reply": "2022-09-14T18:12:59.530780Z",
     "shell.execute_reply.started": "2022-09-14T18:12:56.153090Z"
    },
    "tags": []
   },
   "outputs": [
    {
     "data": {
      "application/vnd.jupyter.widget-view+json": {
       "model_id": "2c74fee2ebf44d18aa33456dd33e9926",
       "version_major": 2,
       "version_minor": 0
      },
      "text/plain": [
       "VBox()"
      ]
     },
     "metadata": {},
     "output_type": "display_data"
    },
    {
     "data": {
      "application/vnd.jupyter.widget-view+json": {
       "model_id": "",
       "version_major": 2,
       "version_minor": 0
      },
      "text/plain": [
       "FloatProgress(value=0.0, bar_style='info', description='Progress:', layout=Layout(height='25px', width='50%'),…"
      ]
     },
     "metadata": {},
     "output_type": "display_data"
    },
    {
     "name": "stdout",
     "output_type": "stream",
     "text": [
      "JPEG (100, 100) RGB\n",
      "[(255, 254, 255), (255, 253, 255), (255, 253, 254), (255, 255, 253), (255, 255, 251), (254, 255, 251), (251, 255, 254), (251, 255, 254), (254, 255, 255), (253, 254, 255), (254, 254, 255), (254, 254, 255), (254, 255, 255), (254, 255, 255), (254, 255, 253), (255, 255, 253), (253, 249, 246), (255, 254, 251), (253, 251, 252), (254, 255, 255), (254, 255, 255), (251, 255, 254), (252, 255, 255), (250, 255, 251), (251, 253, 250), (255, 255, 253), (255, 254, 250), (255, 252, 248), (255, 253, 244), (255, 249, 236)] \n",
      "\n",
      "Num partitions: 4"
     ]
    }
   ],
   "source": [
    "# Display one image (as a check)\n",
    "\n",
    "# BytesIO enables to use bytes in memory as a file and so can use \n",
    "# Image.open to open the jpeg\n",
    "im1 = Image.open(io.BytesIO(images.take(15)[12][3])) \n",
    "    # take the first 15 images and select the 12th \n",
    "    # + 4th column (i.e. content, in bytes)\n",
    "print(im1.format, im1.size, im1.mode) \n",
    "\n",
    "plt.figure(figsize=(2,2))\n",
    "plt.imshow(im1) ; plt.axis('off') ; plt.show()\n",
    "\n",
    "\n",
    "# # and with openCV2 instead of Pillow \n",
    "# import cv2\n",
    "# i = np.frombuffer(images.take(1)[0][3], dtype=np.uint8)\n",
    "# i1 = cv2.imdecode(i, cv2.IMREAD_UNCHANGED)  \n",
    "# i1 = cv2.cvtColor(i1, cv2.COLOR_BGR2RGB)\n",
    "# plt.imshow(i1) ; plt.axis('off') ; plt.show()\n",
    "\n",
    "# # # another way\n",
    "# image_row = 1\n",
    "# spark_single_img = image_df.select(\"image\").collect()[image_row]\n",
    "# mode = 'RGBA' if (spark_single_img.image.nChannels == 4) else 'RGB' \n",
    "# Image.frombytes(\n",
    "#     mode=mode, \n",
    "#     data=bytes(spark_single_img.image.data), \n",
    "#     size=[spark_single_img.image.width,\n",
    "#     spark_single_img.image.height]\n",
    "# ).show()\n",
    "\n",
    "\n",
    "print(list(im1.getdata())[:30], '\\n')\n",
    "# print(np.asarray(im1))  # shape 100x100x3\n",
    "print('Num partitions:', images.rdd.getNumPartitions())\n"
   ]
  },
  {
   "cell_type": "code",
   "execution_count": 89,
   "id": "3fe9d697-8901-437b-82ff-a38169ff4275",
   "metadata": {
    "execution": {
     "iopub.execute_input": "2022-09-14T18:12:59.540439Z",
     "iopub.status.busy": "2022-09-14T18:12:59.539730Z",
     "iopub.status.idle": "2022-09-14T18:12:59.872299Z",
     "shell.execute_reply": "2022-09-14T18:12:59.871236Z",
     "shell.execute_reply.started": "2022-09-14T18:12:59.540386Z"
    },
    "tags": []
   },
   "outputs": [
    {
     "data": {
      "application/vnd.jupyter.widget-view+json": {
       "model_id": "",
       "version_major": 2,
       "version_minor": 0
      },
      "text/plain": [
       "FloatProgress(value=0.0, bar_style='info', description='Progress:', layout=Layout(height='25px', width='50%'),…"
      ]
     },
     "metadata": {},
     "output_type": "display_data"
    },
    {
     "data": {
      "image/png": "[encoded data removed]",
      "text/plain": [
       "<IPython.core.display.Image object>"
      ]
     },
     "metadata": {},
     "output_type": "display_data"
    }
   ],
   "source": [
    "%matplot plt"
   ]
  },
  {
   "cell_type": "markdown",
   "id": "fcb37062-7fdc-4287-b3b7-5a7f572a369b",
   "metadata": {},
   "source": [
    "# IV. Transfer learning (MobileNet) pour déterminer les features des images"
   ]
  },
  {
   "cell_type": "code",
   "execution_count": 90,
   "id": "2c86db97-8ea5-41b6-ae0e-14d2a5a2a8a3",
   "metadata": {
    "execution": {
     "iopub.execute_input": "2022-09-14T18:12:59.874744Z",
     "iopub.status.busy": "2022-09-14T18:12:59.874170Z",
     "iopub.status.idle": "2022-09-14T18:13:02.234466Z",
     "shell.execute_reply": "2022-09-14T18:13:02.233541Z",
     "shell.execute_reply.started": "2022-09-14T18:12:59.874659Z"
    },
    "tags": []
   },
   "outputs": [
    {
     "data": {
      "application/vnd.jupyter.widget-view+json": {
       "model_id": "a3689654953449bfbd20117923fec565",
       "version_major": 2,
       "version_minor": 0
      },
      "text/plain": [
       "VBox()"
      ]
     },
     "metadata": {},
     "output_type": "display_data"
    },
    {
     "data": {
      "application/vnd.jupyter.widget-view+json": {
       "model_id": "",
       "version_major": 2,
       "version_minor": 0
      },
      "text/plain": [
       "FloatProgress(value=0.0, bar_style='info', description='Progress:', layout=Layout(height='25px', width='50%'),…"
      ]
     },
     "metadata": {},
     "output_type": "display_data"
    }
   ],
   "source": [
    "\n",
    "# CNN (to get images features)\n",
    "# Transfer learning with MobileNet as it is lightweight (i.e. cheaper in AWS)\n",
    "\n",
    "model = MobileNetV2() #include_top=False)  # by default, weights='imagenet'\n",
    "\n",
    "# remove the last layer to get the final features\n",
    "model = Model(inputs=model.inputs, outputs=model.layers[-2].output)\n",
    "# model.summary()  \n",
    "\n",
    "# To increase efficiency\n",
    "bc_model_weights = spark.sparkContext.broadcast(model.get_weights())\n"
   ]
  },
  {
   "cell_type": "code",
   "execution_count": 91,
   "id": "3bccdfa6-3808-42b2-a3eb-809f7ef0701c",
   "metadata": {
    "execution": {
     "iopub.execute_input": "2022-09-14T18:13:02.239119Z",
     "iopub.status.busy": "2022-09-14T18:13:02.238867Z",
     "iopub.status.idle": "2022-09-14T18:13:02.625843Z",
     "shell.execute_reply": "2022-09-14T18:13:02.623663Z",
     "shell.execute_reply.started": "2022-09-14T18:13:02.239086Z"
    },
    "tags": []
   },
   "outputs": [
    {
     "data": {
      "application/vnd.jupyter.widget-view+json": {
       "model_id": "1aec1739c8da4bb08e09a6066aeefcc7",
       "version_major": 2,
       "version_minor": 0
      },
      "text/plain": [
       "VBox()"
      ]
     },
     "metadata": {},
     "output_type": "display_data"
    },
    {
     "data": {
      "application/vnd.jupyter.widget-view+json": {
       "model_id": "",
       "version_major": 2,
       "version_minor": 0
      },
      "text/plain": [
       "FloatProgress(value=0.0, bar_style='info', description='Progress:', layout=Layout(height='25px', width='50%'),…"
      ]
     },
     "metadata": {},
     "output_type": "display_data"
    },
    {
     "name": "stdout",
     "output_type": "stream",
     "text": [
      "/usr/lib/spark/python/lib/pyspark.zip/pyspark/sql/pandas/functions.py:392: UserWarning: In Python 3.6+ and Spark 3.0+, it is preferred to specify type hints for pandas UDF instead of specifying pandas UDF type which will be deprecated in the future releases. See SPARK-28264 for more details."
     ]
    }
   ],
   "source": [
    "def model_fn():\n",
    "    \"\"\"\n",
    "    Returns a CNN model with top layers removed \n",
    "    and broadcasted pretrained weights.\n",
    "    \"\"\"\n",
    "    model = MobileNetV2(weights=None) #, include_top=False) \n",
    "    model = Model(inputs=model.inputs, outputs=model.layers[-2].output)\n",
    "    model.set_weights(bc_model_weights.value)\n",
    "    return model\n",
    "\n",
    "\n",
    "def preprocess(content):\n",
    "    \"\"\"\n",
    "    Preprocesses raw image bytes for prediction.\n",
    "    \"\"\"\n",
    "    img = Image.open(io.BytesIO(content)).resize([224, 224]) # [299, 299]\n",
    "    arr = img_to_array(img)\n",
    "    return preprocess_input(arr)  # from Keras pretrained model\n",
    "\n",
    "\n",
    "def featurize_series(model, content_series):\n",
    "    \"\"\"\n",
    "    Featurize a pd.Series of raw images using the input model.\n",
    "    :return: a pd.Series of image features\n",
    "    \"\"\"\n",
    "    input_im = np.stack(content_series.map(preprocess), axis=0)\n",
    "        # np.array (2, 224, 224, 3) w/ 2 the nb of images in a partition\n",
    "    preds = model.predict(input_im)  # get the features\n",
    "    # For some layers, output features will be multi-dimensional tensors.\n",
    "    # We flatten the feature tensors to vectors for easier storage in Spark DF\n",
    "    output = [p.flatten() for p in preds]\n",
    "    return pd.Series(output)\n",
    "\n",
    "\n",
    "# would be better to use type hints in function below\n",
    "@pandas_udf('array<float>', PandasUDFType.SCALAR_ITER) \n",
    "def featurize_udf(content_series_iter):\n",
    "    '''\n",
    "    This method is a Scalar Iterator pandas UDF wrapping the function \n",
    "    giving the image features. The decorator specifies that this \n",
    "    returns a Spark DataFrame column of type ArrayType(FloatType).\n",
    "    :param content_series_iter: This argument is an iterator over \n",
    "    batches of data, where each batch is a pandas Series of image data.\n",
    "    '''\n",
    "    # With Scalar Iterator pandas UDFs, we can load the model once and then \n",
    "    # re-use it for multiple data batches. This amortizes the overhead of \n",
    "    # loading big models.\n",
    "    model = model_fn() \n",
    "    for content_series in content_series_iter:\n",
    "        yield featurize_series(model, content_series)\n",
    "    \n",
    "\n",
    "def extract_label(path_col):\n",
    "    \"\"\"Extract the label from the file path.\"\"\"\n",
    "    return path_col.split('/')[4]\n",
    "extract_label_udf = udf(extract_label, StringType())\n",
    "\n",
    "\n",
    "# If Out Of Memory (OOM) errors, try reducing the Arrow batch size \n",
    "# via `maxRecordsPerBatch`.\n",
    "# spark.conf.set(\"spark.sql.execution.arrow.maxRecordsPerBatch\", \"1024\")\n"
   ]
  },
  {
   "cell_type": "code",
   "execution_count": 92,
   "id": "7427a9cf-2ba9-41f4-9f4e-21c6886cece2",
   "metadata": {
    "execution": {
     "iopub.execute_input": "2022-09-14T18:13:02.627507Z",
     "iopub.status.busy": "2022-09-14T18:13:02.627270Z",
     "iopub.status.idle": "2022-09-14T18:13:26.150772Z",
     "shell.execute_reply": "2022-09-14T18:13:26.149568Z",
     "shell.execute_reply.started": "2022-09-14T18:13:02.627475Z"
    },
    "tags": []
   },
   "outputs": [
    {
     "data": {
      "application/vnd.jupyter.widget-view+json": {
       "model_id": "9a7186a617474070bb510b34315d05d3",
       "version_major": 2,
       "version_minor": 0
      },
      "text/plain": [
       "VBox()"
      ]
     },
     "metadata": {},
     "output_type": "display_data"
    },
    {
     "data": {
      "application/vnd.jupyter.widget-view+json": {
       "model_id": "",
       "version_major": 2,
       "version_minor": 0
      },
      "text/plain": [
       "FloatProgress(value=0.0, bar_style='info', description='Progress:', layout=Layout(height='25px', width='50%'),…"
      ]
     },
     "metadata": {},
     "output_type": "display_data"
    },
    {
     "name": "stdout",
     "output_type": "stream",
     "text": [
      "root\n",
      " |-- label: string (nullable = true)\n",
      " |-- features: array (nullable = true)\n",
      " |    |-- element: float (containsNull = true)\n",
      "\n",
      "+-----------+----------------------------------------------------------------------------------------------------+\n",
      "|      label|                                                                                            features|\n",
      "+-----------+----------------------------------------------------------------------------------------------------+\n",
      "|Cauliflower|[0.0, 1.1601478, 2.2479522, 0.0, 0.040807664, 0.0, 0.02725574, 0.0, 0.0, 0.0, 0.019728748, 0.0, 0...|\n",
      "|Cauliflower|[0.0, 0.04503837, 2.9414926, 0.0, 0.06148957, 0.0, 0.054826222, 0.26761317, 0.0, 0.0, 0.0, 0.0, 0...|\n",
      "|Cauliflower|[0.0, 1.4921517, 2.445232, 0.0, 0.044083264, 0.0, 0.0, 0.0, 0.0, 0.0, 0.038791258, 0.0, 0.0054510...|\n",
      "+-----------+----------------------------------------------------------------------------------------------------+\n",
      "only showing top 3 rows\n",
      "\n",
      "Nb features: 1280"
     ]
    }
   ],
   "source": [
    "# Run the featurization on the Spark DF and get the features in a Spark DF\n",
    "t1 = time.time()\n",
    "\n",
    "features_df = (images\n",
    "#                    .repartition(4)\n",
    "#                    .select(col(\"path\"), \n",
    "                   .withColumn('label', extract_label_udf(col(\"path\")))\n",
    "                   .select('label', featurize_udf(\"content\").alias(\"features\"))\n",
    "              )\n",
    "\n",
    "features_df.printSchema()\n",
    "features_df.show(3, truncate=100)\n",
    "\n",
    "print('Nb features:', len(features_df.first().features))  \n"
   ]
  },
  {
   "cell_type": "code",
   "execution_count": 93,
   "id": "bc73e3a7-c64c-4c16-af02-826840d9ff2c",
   "metadata": {
    "execution": {
     "iopub.execute_input": "2022-09-14T18:13:26.155957Z",
     "iopub.status.busy": "2022-09-14T18:13:26.155239Z",
     "iopub.status.idle": "2022-09-14T18:13:55.640276Z",
     "shell.execute_reply": "2022-09-14T18:13:55.637375Z",
     "shell.execute_reply.started": "2022-09-14T18:13:26.155906Z"
    },
    "tags": []
   },
   "outputs": [
    {
     "data": {
      "application/vnd.jupyter.widget-view+json": {
       "model_id": "a32073b0b0b24463aed50c0a36758002",
       "version_major": 2,
       "version_minor": 0
      },
      "text/plain": [
       "VBox()"
      ]
     },
     "metadata": {},
     "output_type": "display_data"
    },
    {
     "data": {
      "application/vnd.jupyter.widget-view+json": {
       "model_id": "",
       "version_major": 2,
       "version_minor": 0
      },
      "text/plain": [
       "FloatProgress(value=0.0, bar_style='info', description='Progress:', layout=Layout(height='25px', width='50%'),…"
      ]
     },
     "metadata": {},
     "output_type": "display_data"
    },
    {
     "name": "stdout",
     "output_type": "stream",
     "text": [
      "Nb partitions (images): 4\n",
      "Dispatch of partitions (features_df): [(0, 13), (1, 13), (2, 13), (3, 11)]\n",
      "Time: 52.8"
     ]
    }
   ],
   "source": [
    "\n",
    "print('Nb partitions (images):', images.rdd.getNumPartitions())\n",
    "# print('Nb partitions (features_df):', features_df.rdd.getNumPartitions())\n",
    "\n",
    "\n",
    "# itemsByPartRDD = images.rdd.mapPartitionsWithIndex(\n",
    "#                      lambda index, iterator: [(index, list(iterator))])\n",
    "# print('Dispatch of partitions (images):', \n",
    "#       itemsByPartRDD.collect()) #[0][1][0][0]) \n",
    "itemsByPartRDD2 = features_df.rdd.mapPartitionsWithIndex(\n",
    "                     lambda ind, it: [(ind, sum(1 for _ in it))]).collect()\n",
    "print('Dispatch of partitions (features_df):', itemsByPartRDD2)\n",
    "\n",
    "print('Time:', round(time.time() - t1, 1))\n"
   ]
  },
  {
   "cell_type": "markdown",
   "id": "0afa7f0d-afbc-4189-8d36-35285b723e60",
   "metadata": {
    "execution": {
     "iopub.execute_input": "2022-09-14T17:35:49.172454Z",
     "iopub.status.busy": "2022-09-14T17:35:49.172006Z",
     "iopub.status.idle": "2022-09-14T17:35:49.332708Z",
     "shell.execute_reply": "2022-09-14T17:35:49.330958Z",
     "shell.execute_reply.started": "2022-09-14T17:35:49.172397Z"
    },
    "tags": []
   },
   "source": [
    "# V. Reduction de dimension des images avec une ACP"
   ]
  },
  {
   "cell_type": "code",
   "execution_count": 94,
   "id": "97010c59",
   "metadata": {
    "execution": {
     "iopub.execute_input": "2022-09-14T18:13:55.648618Z",
     "iopub.status.busy": "2022-09-14T18:13:55.642589Z",
     "iopub.status.idle": "2022-09-14T18:14:11.138892Z",
     "shell.execute_reply": "2022-09-14T18:14:11.138007Z",
     "shell.execute_reply.started": "2022-09-14T18:13:55.648563Z"
    }
   },
   "outputs": [
    {
     "data": {
      "application/vnd.jupyter.widget-view+json": {
       "model_id": "73cb348594bb4a9f9419799c5a97551b",
       "version_major": 2,
       "version_minor": 0
      },
      "text/plain": [
       "VBox()"
      ]
     },
     "metadata": {},
     "output_type": "display_data"
    },
    {
     "data": {
      "application/vnd.jupyter.widget-view+json": {
       "model_id": "",
       "version_major": 2,
       "version_minor": 0
      },
      "text/plain": [
       "FloatProgress(value=0.0, bar_style='info', description='Progress:', layout=Layout(height='25px', width='50%'),…"
      ]
     },
     "metadata": {},
     "output_type": "display_data"
    },
    {
     "name": "stdout",
     "output_type": "stream",
     "text": [
      "+-----------+--------------------------------------------------+--------------------------------------------------+\n",
      "|      label|                                          features|                                      features_udf|\n",
      "+-----------+--------------------------------------------------+--------------------------------------------------+\n",
      "|Cauliflower|[0.0, 1.1601478, 2.2479522, 0.0, 0.040807664, 0...|[0.0,1.160147786140442,2.2479522228240967,0.0,0...|\n",
      "|Cauliflower|[0.0, 0.04503837, 2.9414926, 0.0, 0.06148957, 0...|[0.0,0.0450383685529232,2.9414925575256348,0.0,...|\n",
      "|Cauliflower|[0.0, 1.4921517, 2.445232, 0.0, 0.044083264, 0....|[0.0,1.4921517372131348,2.4452319145202637,0.0,...|\n",
      "|Cauliflower|[0.0, 0.21565273, 3.034644, 0.0, 0.27659947, 0....|[0.0,0.215652734041214,3.0346438884735107,0.0,0...|\n",
      "|Cauliflower|[0.0, 1.2632666, 2.4186409, 0.0, 0.018879492, 0...|[0.0,1.2632665634155273,2.4186408519744873,0.0,...|\n",
      "|Cauliflower|[0.0, 0.63474417, 2.4497068, 0.0, 0.03032154, 0...|[0.0,0.6347441673278809,2.449706792831421,0.0,0...|\n",
      "|Cauliflower|[0.0, 1.5130036, 2.2603798, 0.0, 0.022175273, 0...|[0.0,1.5130035877227783,2.2603797912597656,0.0,...|\n",
      "|Cauliflower|[0.0035247607, 0.8004638, 1.9555054, 0.0, 0.014...|[0.003524760715663433,0.8004637956619263,1.9555...|\n",
      "|Cauliflower|[0.0, 1.1464428, 2.6127093, 0.0, 0.0350537, 0.0...|[0.0,1.1464427709579468,2.6127092838287354,0.0,...|\n",
      "|Cauliflower|[0.0, 0.33532155, 2.9997673, 0.0, 0.08567313, 0...|[0.0,0.3353215456008911,2.999767303466797,0.0,0...|\n",
      "|    Apricot|[1.0310324, 0.06770801, 0.0, 0.0, 0.29908964, 0...|[1.0310324430465698,0.06770800799131393,0.0,0.0...|\n",
      "|    Apricot|[0.9990014, 0.023891868, 0.0, 0.0, 0.2780338, 0...|[0.9990013837814331,0.023891868069767952,0.0,0....|\n",
      "|    Apricot|[0.9086102, 0.082361795, 0.0, 0.0, 0.28490767, ...|[0.9086102247238159,0.08236179500818253,0.0,0.0...|\n",
      "|    Apricot|[1.0177736, 0.06137706, 0.0, 0.0, 0.047629774, ...|[1.0177736282348633,0.061377059668302536,0.0,0....|\n",
      "|    Apricot|[0.75570047, 0.010602153, 0.0, 0.0, 0.09691032,...|[0.7557004690170288,0.010602152906358242,0.0,0....|\n",
      "|    Apricot|[1.112464, 0.09090948, 0.0, 0.0, 0.10826307, 0....|[1.1124639511108398,0.09090948104858398,0.0,0.0...|\n",
      "|    Apricot|[0.99398166, 0.029188974, 0.0, 0.0, 0.014236742...|[0.993981659412384,0.0291889738291502,0.0,0.0,0...|\n",
      "|    Apricot|[1.1487143, 0.047702976, 0.0, 0.0, 0.17343229, ...|[1.148714303970337,0.04770297557115555,0.0,0.0,...|\n",
      "|    Apricot|[0.9597662, 0.15140867, 0.0, 0.0, 0.29864314, 0...|[0.9597662091255188,0.15140867233276367,0.0,0.0...|\n",
      "|    Apricot|[1.1403793, 0.031726312, 0.0, 0.0, 0.2357982, 0...|[1.1403793096542358,0.03172631189227104,0.0,0.0...|\n",
      "+-----------+--------------------------------------------------+--------------------------------------------------+\n",
      "only showing top 20 rows"
     ]
    }
   ],
   "source": [
    "\n",
    "# Création d'une UDF qui transforme chaque ligne en un vecteur \n",
    "# as needed in ML(lib)\n",
    "list_to_vector_udf = udf(lambda x: Vectors.dense(x), VectorUDT())\n",
    "        # Spark udf here,works like map (function, return type)\n",
    "\n",
    "# appliquer \"list_to_vector_udf\" sur tout le dataframe\n",
    "features_df_vec = features_df.withColumn(\"features_udf\", \n",
    "                                         list_to_vector_udf(col(\"features\")))\n",
    "features_df_vec.show(truncate=50)\n"
   ]
  },
  {
   "cell_type": "code",
   "execution_count": 95,
   "id": "c856a915",
   "metadata": {
    "execution": {
     "iopub.execute_input": "2022-09-14T18:14:11.142905Z",
     "iopub.status.busy": "2022-09-14T18:14:11.142620Z",
     "iopub.status.idle": "2022-09-14T18:14:48.678008Z",
     "shell.execute_reply": "2022-09-14T18:14:48.677062Z",
     "shell.execute_reply.started": "2022-09-14T18:14:11.142873Z"
    }
   },
   "outputs": [
    {
     "data": {
      "application/vnd.jupyter.widget-view+json": {
       "model_id": "2f16df89e0bf42f4819f6526428ceb86",
       "version_major": 2,
       "version_minor": 0
      },
      "text/plain": [
       "VBox()"
      ]
     },
     "metadata": {},
     "output_type": "display_data"
    },
    {
     "data": {
      "application/vnd.jupyter.widget-view+json": {
       "model_id": "",
       "version_major": 2,
       "version_minor": 0
      },
      "text/plain": [
       "FloatProgress(value=0.0, bar_style='info', description='Progress:', layout=Layout(height='25px', width='50%'),…"
      ]
     },
     "metadata": {},
     "output_type": "display_data"
    },
    {
     "name": "stdout",
     "output_type": "stream",
     "text": [
      "+-----------+------------------------------+------------------------------+------------------------------+\n",
      "|      label|                      features|                  features_udf|                scaledFeatures|\n",
      "+-----------+------------------------------+------------------------------+------------------------------+\n",
      "|Cauliflower|[0.0, 1.1601478, 2.2479522,...|[0.0,1.160147786140442,2.24...|[-1.4588006300159557,1.2451...|\n",
      "|Cauliflower|[0.0, 0.04503837, 2.9414926...|[0.0,0.0450383685529232,2.9...|[-1.4588006300159557,-0.666...|\n",
      "|Cauliflower|[0.0, 1.4921517, 2.445232, ...|[0.0,1.4921517372131348,2.4...|[-1.4588006300159557,1.8142...|\n",
      "|Cauliflower|[0.0, 0.21565273, 3.034644,...|[0.0,0.215652734041214,3.03...|[-1.4588006300159557,-0.373...|\n",
      "|Cauliflower|[0.0, 1.2632666, 2.4186409,...|[0.0,1.2632665634155273,2.4...|[-1.4588006300159557,1.4219...|\n",
      "|Cauliflower|[0.0, 0.63474417, 2.4497068...|[0.0,0.6347441673278809,2.4...|[-1.4588006300159557,0.3445...|\n",
      "|Cauliflower|[0.0, 1.5130036, 2.2603798,...|[0.0,1.5130035877227783,2.2...|[-1.4588006300159557,1.8499...|\n",
      "|Cauliflower|[0.0035247607, 0.8004638, 1...|[0.003524760715663433,0.800...|[-1.4518334285059311,0.6285...|\n",
      "|Cauliflower|[0.0, 1.1464428, 2.6127093,...|[0.0,1.1464427709579468,2.6...|[-1.4588006300159557,1.2216...|\n",
      "|Cauliflower|[0.0, 0.33532155, 2.9997673...|[0.0,0.3353215456008911,2.9...|[-1.4588006300159557,-0.168...|\n",
      "|    Apricot|[1.0310324, 0.06770801, 0.0...|[1.0310324430465698,0.06770...|[0.5791847464541952,-0.6274...|\n",
      "|    Apricot|[0.9990014, 0.023891868, 0....|[0.9990013837814331,0.02389...|[0.5158707054504933,-0.7025...|\n",
      "|    Apricot|[0.9086102, 0.082361795, 0....|[0.9086102247238159,0.08236...|[0.3371994506670097,-0.6023...|\n",
      "|    Apricot|[1.0177736, 0.06137706, 0.0...|[1.0177736282348633,0.06137...|[0.5529767731961089,-0.6383...|\n",
      "|    Apricot|[0.75570047, 0.010602153, 0...|[0.7557004690170288,0.01060...|[0.03495110906367986,-0.725...|\n",
      "|    Apricot|[1.112464, 0.09090948, 0.0,...|[1.1124639511108398,0.09090...|[0.7401459497006361,-0.5876...|\n",
      "|    Apricot|[0.99398166, 0.029188974, 0...|[0.993981659412384,0.029188...|[0.505948491142858,-0.69349...|\n",
      "|    Apricot|[1.1487143, 0.047702976, 0....|[1.148714303970337,0.047702...|[0.8118000373268592,-0.6617...|\n",
      "|    Apricot|[0.9597662, 0.15140867, 0.0...|[0.9597662091255188,0.15140...|[0.4383166840118159,-0.4839...|\n",
      "|    Apricot|[1.1403793, 0.031726312, 0....|[1.1403793096542358,0.03172...|[0.7953247104409442,-0.6891...|\n",
      "+-----------+------------------------------+------------------------------+------------------------------+\n",
      "only showing top 20 rows"
     ]
    }
   ],
   "source": [
    "\n",
    "scaler = StandardScaler(inputCol=\"features_udf\", \n",
    "                        outputCol=\"scaledFeatures\",\n",
    "                        withStd=True, withMean=True)\n",
    "# not sure if useful here as keras preprocess transforms all in the range [-1, 1]\n",
    "\n",
    "scalerModel = scaler.fit(features_df_vec)\n",
    "scaledData = scalerModel.transform(features_df_vec)\n",
    "scaledData.show(truncate=30)\n"
   ]
  },
  {
   "cell_type": "code",
   "execution_count": 96,
   "id": "2b30383c",
   "metadata": {
    "execution": {
     "iopub.execute_input": "2022-09-14T18:14:48.682173Z",
     "iopub.status.busy": "2022-09-14T18:14:48.681938Z",
     "iopub.status.idle": "2022-09-14T18:15:58.453161Z",
     "shell.execute_reply": "2022-09-14T18:15:58.452279Z",
     "shell.execute_reply.started": "2022-09-14T18:14:48.682142Z"
    }
   },
   "outputs": [
    {
     "data": {
      "application/vnd.jupyter.widget-view+json": {
       "model_id": "2990834c74c34d92a66ad44900c6b8c7",
       "version_major": 2,
       "version_minor": 0
      },
      "text/plain": [
       "VBox()"
      ]
     },
     "metadata": {},
     "output_type": "display_data"
    },
    {
     "data": {
      "application/vnd.jupyter.widget-view+json": {
       "model_id": "",
       "version_major": 2,
       "version_minor": 0
      },
      "text/plain": [
       "FloatProgress(value=0.0, bar_style='info', description='Progress:', layout=Layout(height='25px', width='50%'),…"
      ]
     },
     "metadata": {},
     "output_type": "display_data"
    },
    {
     "name": "stdout",
     "output_type": "stream",
     "text": [
      "+----------------------------------------------------------------------------------------------------+\n",
      "|                                                                                         pcaFeatures|\n",
      "+----------------------------------------------------------------------------------------------------+\n",
      "|[-4.784564511034069,25.198084711965272,0.9908004163125756,15.319372915253611,-1.0781306403195856E...|\n",
      "|[-6.1931227101295505,19.48815431189962,-2.977590798222894,12.074524068678159,-2.1163626406917047E...|\n",
      "|[-4.21443574879825,24.543912096815994,-1.7547348604686652,14.579205062180167,2.1826290774740187E-...|\n",
      "|[-6.762566594197436,22.166850186540074,4.217907215772833,14.806350712773341,-5.906733435701028E-1...|\n",
      "|[-3.5674522002326188,23.328459968613988,0.9286044571407012,13.011566655074104,6.881648029199994E-...|\n",
      "|[-4.443476465144918,23.27122011047011,5.282092976572204,13.588948567514718,4.6242523699113747E-14...|\n",
      "|[-4.001608793110443,23.385458378136182,-2.392327252490249,14.817810834300323,-9.348424812039013E-...|\n",
      "|[-3.7087453929232406,23.80775961533467,5.557856213238423,13.769320463798703,-1.4432899320127035E-...|\n",
      "|[-3.9470932721791137,24.891947735325253,-7.698946796145392,14.962649053375584,3.4958147487884617E...|\n",
      "|[-5.97091569552721,22.385939910411363,-1.7866750969874077,13.993135511694213,-3.4833247397614286E...|\n",
      "|[-1.7845132532657964,3.4664131812813817,-0.11606370242802609,-24.44018670712095,6.138665964439127...|\n",
      "|[-1.8857527336527942,2.8653789814121957,-1.4487467211613254,-25.154537857192086,-3.22988163992121...|\n",
      "|[-1.763523958928375,2.183991200616223,-0.09152050240412997,-25.501469876520474,3.5204478221473323...|\n",
      "|[-0.7295877165704789,3.1692608785302636,-0.031604508318615956,-25.51840512461906,-2.6969745881011...|\n",
      "|[-0.9254162541072899,3.629332620331386,-0.12695119229335886,-25.854781393526235,-3.40664996212325...|\n",
      "|[-1.5460711773544977,1.6682011729535098,1.2871940280919738,-28.070379618868458,-1.710437347313131...|\n",
      "|[-0.2757942657385409,3.2186162039191477,-0.5116472040641815,-27.414544204257602,-4.28979768374304...|\n",
      "|[-1.7958404067683096,2.7648027572442904,0.058307902572382504,-23.771077825332757,-6.3376387471336...|\n",
      "|[-1.7364843913416235,2.4429397311487695,0.35181498660984534,-27.436455840611764,-1.25628674130240...|\n",
      "|[-1.2553506836085164,3.0082787764945826,-0.2721548068653249,-25.049933716557735,-3.49685558287404...|\n",
      "+----------------------------------------------------------------------------------------------------+\n",
      "only showing top 20 rows"
     ]
    }
   ],
   "source": [
    "\n",
    "pca = PCA(k=20, inputCol=\"scaledFeatures\", outputCol=\"pcaFeatures\")\n",
    "model = pca.fit(scaledData)\n",
    "result = model.transform(scaledData).select(\"pcaFeatures\")\n",
    "result.show(truncate=100)\n"
   ]
  },
  {
   "cell_type": "code",
   "execution_count": 97,
   "id": "19c2d15f",
   "metadata": {
    "execution": {
     "iopub.execute_input": "2022-09-14T18:15:58.456607Z",
     "iopub.status.busy": "2022-09-14T18:15:58.456366Z",
     "iopub.status.idle": "2022-09-14T18:15:58.593099Z",
     "shell.execute_reply": "2022-09-14T18:15:58.592081Z",
     "shell.execute_reply.started": "2022-09-14T18:15:58.456566Z"
    }
   },
   "outputs": [
    {
     "data": {
      "application/vnd.jupyter.widget-view+json": {
       "model_id": "8fac9a41f6fb41f88aa9c61ec57b86f0",
       "version_major": 2,
       "version_minor": 0
      },
      "text/plain": [
       "VBox()"
      ]
     },
     "metadata": {},
     "output_type": "display_data"
    },
    {
     "data": {
      "application/vnd.jupyter.widget-view+json": {
       "model_id": "",
       "version_major": 2,
       "version_minor": 0
      },
      "text/plain": [
       "FloatProgress(value=0.0, bar_style='info', description='Progress:', layout=Layout(height='25px', width='50%'),…"
      ]
     },
     "metadata": {},
     "output_type": "display_data"
    },
    {
     "name": "stdout",
     "output_type": "stream",
     "text": [
      "First 20 eigen values:\n",
      "[0.1, 0.08, 0.07, 0.07, 0.06, 0.06, 0.05, 0.05, 0.05, 0.04, 0.04, 0.04, 0.04, 0.03, 0.03, 0.03, 0.02, 0.02, 0.02, 0.02]\n",
      "\n",
      "\n",
      "Cumulative sum:\n",
      "[0.1, 0.17, 0.25, 0.32, 0.38, 0.43, 0.49, 0.54, 0.59, 0.63, 0.67, 0.71, 0.74, 0.77, 0.8, 0.83, 0.86, 0.88, 0.9, 0.91]"
     ]
    }
   ],
   "source": [
    "# Explained variance for each component\n",
    "\n",
    "exp_var = pd.Series(list(model.explainedVariance)) \n",
    "print('First 20 eigen values:')\n",
    "print(list(round(exp_var[:20], 2))) ; print('\\n')\n",
    "print('Cumulative sum:')\n",
    "print(list(round(np.cumsum(exp_var[:20]), 2))) ; print('\\n')\n"
   ]
  },
  {
   "cell_type": "code",
   "execution_count": 98,
   "id": "60269cd2",
   "metadata": {
    "execution": {
     "iopub.execute_input": "2022-09-14T18:15:58.598008Z",
     "iopub.status.busy": "2022-09-14T18:15:58.597376Z",
     "iopub.status.idle": "2022-09-14T18:15:59.539809Z",
     "shell.execute_reply": "2022-09-14T18:15:59.538807Z",
     "shell.execute_reply.started": "2022-09-14T18:15:58.597956Z"
    },
    "tags": []
   },
   "outputs": [
    {
     "data": {
      "application/vnd.jupyter.widget-view+json": {
       "model_id": "d70daf27af5b430b888b1581325037e3",
       "version_major": 2,
       "version_minor": 0
      },
      "text/plain": [
       "VBox()"
      ]
     },
     "metadata": {},
     "output_type": "display_data"
    },
    {
     "data": {
      "application/vnd.jupyter.widget-view+json": {
       "model_id": "",
       "version_major": 2,
       "version_minor": 0
      },
      "text/plain": [
       "FloatProgress(value=0.0, bar_style='info', description='Progress:', layout=Layout(height='25px', width='50%'),…"
      ]
     },
     "metadata": {},
     "output_type": "display_data"
    },
    {
     "data": {
      "image/png": "[encoded data removed]",
      "text/plain": [
       "<IPython.core.display.Image object>"
      ]
     },
     "metadata": {},
     "output_type": "display_data"
    }
   ],
   "source": [
    "# Scree plot\n",
    "\n",
    "total = 0\n",
    "var_ls = []\n",
    "for x in exp_var:  # better use np.cumsum instead!\n",
    "    total = total + x\n",
    "    var_ls.append(total)\n",
    "    \n",
    "plt.figure(figsize=(6,3))\n",
    "exp_var.plot(kind=\"bar\", alpha=0.5, color='g') \n",
    "pd.Series(var_ls).plot(marker=\"x\", alpha=0.7) \n",
    "plt.xlabel(\"Principal Components\")\n",
    "plt.ylabel(\"Percentage Variance Explained\")\n",
    "plt.title(\"Scree Plot\", fontsize=\"xx-large\")\n",
    "plt.subplots_adjust(left=0.1, right=1, top=1, bottom=0.1)\n",
    "plt.show()\n",
    "\n",
    "%matplot plt\n"
   ]
  },
  {
   "cell_type": "markdown",
   "id": "bb24a6fa-5afe-4b98-a529-21b7ca5750be",
   "metadata": {},
   "source": [
    "# VI. Sauvegarde des résultats dans un bucket S3"
   ]
  },
  {
   "cell_type": "code",
   "execution_count": null,
   "id": "a342e07a",
   "metadata": {
    "execution": {
     "iopub.execute_input": "2022-09-14T18:15:59.542328Z",
     "iopub.status.busy": "2022-09-14T18:15:59.541722Z"
    },
    "tags": []
   },
   "outputs": [
    {
     "data": {
      "application/vnd.jupyter.widget-view+json": {
       "model_id": "64813b57b21049f29ad82c4b840d1e17",
       "version_major": 2,
       "version_minor": 0
      },
      "text/plain": [
       "VBox()"
      ]
     },
     "metadata": {},
     "output_type": "display_data"
    },
    {
     "data": {
      "application/vnd.jupyter.widget-view+json": {
       "model_id": "",
       "version_major": 2,
       "version_minor": 0
      },
      "text/plain": [
       "FloatProgress(value=0.0, bar_style='info', description='Progress:', layout=Layout(height='25px', width='50%'),…"
      ]
     },
     "metadata": {},
     "output_type": "display_data"
    }
   ],
   "source": [
    "\n",
    "# Convert the vector to an narray then dispatch each value to its own column\n",
    "result_array = result.withColumn('pcaFeatures', vector_to_array('pcaFeatures'))\n",
    "for i in range(20):\n",
    "    result_array = result_array.select(*result_array.columns, result_array.pcaFeatures[i])\n",
    "result_array = result_array.drop('pcaFeatures')\n",
    "\n",
    "# result_array.printSchema()\n",
    "# result_array.show(1, truncate=20)\n",
    "\n",
    "(result_array.write.option('header', 'true')\n",
    "             .mode('overwrite')\n",
    "             .csv(\"s3a://oc8-fruits-rq/results/oc8_pca.csv\")\n",
    ")\n",
    "\n",
    "# result.write.parquet(\"s3a://oc8-fruits-rq/results/oc8_pca.parquet\")\n"
   ]
  }
 ],
 "metadata": {
  "kernelspec": {
   "display_name": "Python 3 (ipykernel)",
   "language": "python",
   "name": "python3"
  },
  "language_info": {
   "codemirror_mode": {
    "name": "ipython",
    "version": 3
   },
   "file_extension": ".py",
   "mimetype": "text/x-python",
   "name": "python",
   "nbconvert_exporter": "python",
   "pygments_lexer": "ipython3",
   "version": "3.9.12"
  }
 },
 "nbformat": 4,
 "nbformat_minor": 5
}
